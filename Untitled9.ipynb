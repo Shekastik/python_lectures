{
  "nbformat": 4,
  "nbformat_minor": 0,
  "metadata": {
    "colab": {
      "name": "Untitled9.ipynb",
      "provenance": []
    },
    "kernelspec": {
      "name": "python3",
      "display_name": "Python 3"
    },
    "language_info": {
      "name": "python"
    }
  },
  "cells": [
    {
      "cell_type": "code",
      "source": [
        "s=list(input('Введите список чисел.'))\n",
        "for i in s:\n",
        "    if i==k:\n",
        "        s.remove(i)\n",
        "print(s)"
      ],
      "metadata": {
        "id": "1i9DG-9kNOyE"
      },
      "execution_count": null,
      "outputs": []
    },
    {
      "cell_type": "code",
      "source": [
        "a = [int(s) for s in input().split()]\n",
        "counter = 0\n",
        "for i in range(len(a)):\n",
        "    for j in range(i + 1, len(a)):\n",
        "        if a[i] == a[j]:\n",
        "            counter += 1\n",
        "print(counter)"
      ],
      "metadata": {
        "id": "ifM5-4vrOBTm"
      },
      "execution_count": null,
      "outputs": []
    },
    {
      "cell_type": "code",
      "source": [
        "a = [int(s) for s in input().split()]\n",
        "for i in range(len(a)):\n",
        "    for j in range(len(a)):\n",
        "        if i != j and a[i] == a[j]:\n",
        "            break\n",
        "    else:\n",
        "        print(a[i], end=' ')"
      ],
      "metadata": {
        "id": "1XKjBbIbPvpW"
      },
      "execution_count": null,
      "outputs": []
    },
    {
      "cell_type": "code",
      "source": [
        "a = [int(i) for i in input().split()]\n",
        "for i in range(1, len(a), 2):\n",
        "    a[i - 1], a[i] = a[i], a[i - 1]\n",
        "print(' '.join([str(i) for i in a]))"
      ],
      "metadata": {
        "id": "0uAjzvRkP9cf"
      },
      "execution_count": null,
      "outputs": []
    },
    {
      "cell_type": "code",
      "source": [
        "a = [int(s) for s in input().split()]\n",
        "k = int(input())\n",
        "for i in range(k + 1, len(a)):\n",
        "    a[i - 1] = a[i]\n",
        "a.pop()\n",
        "print(' '.join([str(i) for i in a]))"
      ],
      "metadata": {
        "id": "YJJyGBl3QKVr"
      },
      "execution_count": null,
      "outputs": []
    },
    {
      "cell_type": "code",
      "source": [
        "a = [int(s) for s in input().split()]\n",
        " \n",
        "#т.к справа от \"=\" стоит список из двух элементов,\n",
        "# а слева -- две переменные,\n",
        "# поэтому можно использовать множественное присваивание\n",
        "k, C = [int(s) for s in input().split()]\n",
        " \n",
        "a.append(0)\n",
        "for i in range(len(a) - 1, k, -1):\n",
        "    a[i] = a[i - 1]\n",
        "a[k] = C\n",
        "print(' '.join([str(i) for i in a]))"
      ],
      "metadata": {
        "id": "XB_hRUA6QLV6"
      },
      "execution_count": null,
      "outputs": []
    }
  ]
}