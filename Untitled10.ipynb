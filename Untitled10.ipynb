{
  "nbformat": 4,
  "nbformat_minor": 0,
  "metadata": {
    "colab": {
      "name": "Untitled10.ipynb",
      "provenance": []
    },
    "kernelspec": {
      "name": "python3",
      "display_name": "Python 3"
    },
    "language_info": {
      "name": "python"
    }
  },
  "cells": [
    {
      "cell_type": "code",
      "execution_count": null,
      "metadata": {
        "id": "m7MxKcg8RVTE"
      },
      "outputs": [],
      "source": [
        "A = float (input())\n",
        "B = float (input())\n",
        "C = str (input())\n",
        "if C =='+':\n",
        "    print(A+B)\n",
        "elif C=='-':\n",
        "    print(A-B)\n",
        "elif C=='*':\n",
        "    print(A*B)\n",
        "elif C=='/' and B==0:\n",
        "    print(\"Деление на 0!\")\n",
        "elif C=='/' and B!=0:\n",
        "    print(A/B)\n",
        "elif C=='mod' and B==0:\n",
        "    print('Деление на 0!')\n",
        "elif C=='mod' and B!=0:\n",
        "    print(A%B)\n",
        "elif C=='pow':\n",
        "    print(A**B)\n",
        "elif C=='div' and B==0:\n",
        "    print('Деление на 0!')\n",
        "elif C=='div' and B!=0:\n",
        "    print(A//B)"
      ]
    }
  ]
}