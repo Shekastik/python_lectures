{
  "nbformat": 4,
  "nbformat_minor": 0,
  "metadata": {
    "colab": {
      "name": "Untitled12.ipynb",
      "provenance": []
    },
    "kernelspec": {
      "name": "python3",
      "display_name": "Python 3"
    },
    "language_info": {
      "name": "python"
    }
  },
  "cells": [
    {
      "cell_type": "code",
      "execution_count": null,
      "metadata": {
        "id": "4twZ32dHVjmD"
      },
      "outputs": [],
      "source": [
        "print(len(set(input().split())))"
      ]
    },
    {
      "cell_type": "code",
      "source": [
        "print(len(set(input().split()) & set(input().split())))"
      ],
      "metadata": {
        "id": "ETtdyV1zV2Cl"
      },
      "execution_count": null,
      "outputs": []
    },
    {
      "cell_type": "code",
      "source": [
        "print(*sorted(set(input().split()) & set(input().split()), key=int))"
      ],
      "metadata": {
        "id": "y8WTSUCNV-19"
      },
      "execution_count": null,
      "outputs": []
    },
    {
      "cell_type": "code",
      "source": [
        "numbers = [int(s) for s in input().split()]\n",
        "occur_before = set()\n",
        "for num in numbers:\n",
        "    if num in occur_before:\n",
        "        print('YES')\n",
        "    else:\n",
        "        print('NO')\n",
        "        occur_before.add(num)"
      ],
      "metadata": {
        "id": "1t1_qLh3WMSm"
      },
      "execution_count": null,
      "outputs": []
    },
    {
      "cell_type": "code",
      "source": [
        "words = set()\n",
        "for _ in range(int(input())):\n",
        "    words.update(input().split())\n",
        "print(len(words))"
      ],
      "metadata": {
        "id": "4Csjame_WYSy"
      },
      "execution_count": null,
      "outputs": []
    },
    {
      "cell_type": "code",
      "source": [
        "counter = {}\n",
        "for word in input().split():\n",
        "    counter[word] = counter.get(word, 0) + 1\n",
        "    print(counter[word] - 1, end=' ')"
      ],
      "metadata": {
        "id": "-AjNOdy2XAuM"
      },
      "execution_count": null,
      "outputs": []
    },
    {
      "cell_type": "code",
      "source": [
        "n = int(input())\n",
        "d = {}\n",
        "for i in range(n):\n",
        "    first, second = input().split()\n",
        "    d[first] = second\n",
        "    d[second] = first\n",
        "print(d[input()])"
      ],
      "metadata": {
        "id": "D-clEytlXCFb"
      },
      "execution_count": null,
      "outputs": []
    },
    {
      "cell_type": "code",
      "source": [
        "counter = {}\n",
        "for i in range(int(input())):\n",
        "    line = input().split()\n",
        "    for word in line:\n",
        "        counter[word] = counter.get(word, 0) + 1\n",
        "         \n",
        "max_count = max(counter.values())\n",
        "most_frequent = [k for k, v in counter.items() if v == max_count]\n",
        "print(min(most_frequent))"
      ],
      "metadata": {
        "id": "t88wF-64XOJQ"
      },
      "execution_count": null,
      "outputs": []
    },
    {
      "cell_type": "code",
      "source": [
        "from collections import Counter\n",
        " \n",
        "words = []\n",
        "for _ in range(int(input())):\n",
        "    words.extend(input().split())\n",
        " \n",
        "counter = Counter(words)\n",
        "pairs = [(-pair[1], pair[0]) for pair in counter.most_common()]\n",
        "words = [pair[1] for pair in sorted(pairs)]\n",
        "print('\\n'.join(words))"
      ],
      "metadata": {
        "id": "pbs6jxhTXi_o"
      },
      "execution_count": null,
      "outputs": []
    },
    {
      "cell_type": "code",
      "source": [
        "motherland = {}\n",
        "for i in range(int(input())):\n",
        "    country, *cities = input().split()\n",
        "    for city in cities:\n",
        "        motherland[city] = country\n",
        "         \n",
        "for i in range(int(input())):\n",
        "    print(motherland[input()])"
      ],
      "metadata": {
        "id": "chSVfhkOXvDv"
      },
      "execution_count": null,
      "outputs": []
    },
    {
      "cell_type": "code",
      "source": [
        "from collections import defaultdict\n",
        "from sys import stdin\n",
        " \n",
        "clients = defaultdict(lambda: defaultdict(int))\n",
        "for line in stdin.readlines():\n",
        "    client, thing, value = line.split()\n",
        "    clients[client][thing] += int(value)\n",
        "         \n",
        "for client in sorted(clients):\n",
        "    print(client + ':')\n",
        "    for thing in sorted(clients[client]):\n",
        "        print(thing, clients[client][thing])"
      ],
      "metadata": {
        "id": "7eMc9ar-Xw8r"
      },
      "execution_count": null,
      "outputs": []
    }
  ]
}