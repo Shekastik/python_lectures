{
  "nbformat": 4,
  "nbformat_minor": 0,
  "metadata": {
    "colab": {
      "name": "Untitled11.ipynb",
      "provenance": []
    },
    "kernelspec": {
      "name": "python3",
      "display_name": "Python 3"
    },
    "language_info": {
      "name": "python"
    }
  },
  "cells": [
    {
      "cell_type": "code",
      "execution_count": null,
      "metadata": {
        "id": "s8d9B5olSxiX"
      },
      "outputs": [],
      "source": [
        "n = int(input())\n",
        "m = int(input())\n",
        "y = int(input())\n",
        "\n",
        "def bank(n, m, y):\n",
        "        nal = n\n",
        "        year = y\n",
        "        def money():\n",
        "            if year >0:\n",
        "                nal = n*1.1+m\n",
        "                year = year -1\n",
        "                return money()\n",
        "            else:\n",
        "                return nal\n",
        "\n",
        "print (nal)"
      ]
    },
    {
      "cell_type": "code",
      "source": [
        "from math import sqrt\n",
        " \n",
        "def distance(x1, y1, x2, y2):\n",
        "    return sqrt((x1 - x2) ** 2 + (y1 - y2) ** 2)\n",
        " \n",
        "x1 = float(input())\n",
        "x2 = float(input())\n",
        "y1 = float(input())\n",
        "y2 = float(input())\n",
        "print(distance(x1, x2, y1, y2))"
      ],
      "metadata": {
        "id": "fjMnxg8YUVHw"
      },
      "execution_count": null,
      "outputs": []
    },
    {
      "cell_type": "code",
      "source": [
        "def power(a, n):\n",
        "    res = 1\n",
        "    for i in range(abs(n)):\n",
        "        res *= a\n",
        "    if n >= 0:\n",
        "        return res\n",
        "    else:\n",
        "        return 1 / res\n",
        " \n",
        "print(power(float(input()), int(input())))"
      ],
      "metadata": {
        "id": "6irW8FsnUgb6"
      },
      "execution_count": null,
      "outputs": []
    },
    {
      "cell_type": "code",
      "source": [
        "from cmath import sqrt\n",
        "\n",
        "\n",
        "def is_prime(number):\n",
        "    # Все четные числа кроме 2 непростые\n",
        "    if number % 2 == 0 and number != 2:\n",
        "        return False\n",
        "    # 0 и 1 не являются простыми\n",
        "    if number == 0 or number == 1:\n",
        "        return False\n",
        "    # Перебираем числа от 3 до корня из введенного, шаг - 2\n",
        "    for n in range(3, int(sqrt(number).real) + 1, 2):\n",
        "        if number % n == 0:  # Если число делится нацело, то оно непростое\n",
        "            return False\n",
        "    return True  # Остальные числа простые\n",
        "\n",
        "n = int(input('Введите число: '))\n",
        "print(is_prime(n))"
      ],
      "metadata": {
        "id": "N4ZCr8vAU14L"
      },
      "execution_count": null,
      "outputs": []
    }
  ]
}